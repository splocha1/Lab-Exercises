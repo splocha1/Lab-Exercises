{
 "cells": [
  {
   "cell_type": "code",
   "execution_count": 1,
   "id": "56708b8c",
   "metadata": {},
   "outputs": [
    {
     "name": "stdout",
     "output_type": "stream",
     "text": [
      "The longest word in the list is gargoyle.\n"
     ]
    }
   ],
   "source": [
    "list = [\"apple\", \"chestnut\", \"gargoyle\", \"pandas\", \"sheep\", \"raptor\"]\n",
    "def longest_word():\n",
    "    sortedlist = sorted(list, key=len)\n",
    "    print(f\"The longest word in the list is {sortedlist[-1]}.\")\n",
    "longest_word()"
   ]
  },
  {
   "cell_type": "code",
   "execution_count": 84,
   "id": "a6204391",
   "metadata": {},
   "outputs": [
    {
     "name": "stdout",
     "output_type": "stream",
     "text": [
      "The longest word in the list is SCRUFFIEST\n",
      ".\n"
     ]
    }
   ],
   "source": [
    "import random\n",
    "from IPython.display import clear_output \n",
    "sowpods = \"sowpods.txt\"\n",
    "lines = open(\"sowpods.txt\").readlines() \n",
    "word1 = random.choice(lines)\n",
    "word2 = random.choice(lines)\n",
    "word3 = random.choice(lines)\n",
    "word4 = random.choice(lines)\n",
    "word5 = random.choice(lines)\n",
    "word6 = random.choice(lines)\n",
    "word7 = random.choice(lines)\n",
    "list=[word1,word2,word3,word4,word5,word6,word7]\n",
    "longest_word()\n",
    "\n",
    "\n",
    "\n",
    "\n",
    "\n",
    "\n",
    "\n"
   ]
  },
  {
   "cell_type": "code",
   "execution_count": 93,
   "id": "355e4718",
   "metadata": {},
   "outputs": [
    {
     "name": "stdout",
     "output_type": "stream",
     "text": [
      "January\n",
      "4\n",
      "dict_items([('Sofia', 'October'), ('Arielle', 'February'), ('Gabby', 'January'), ('Jocelyn', 'June')])\n",
      "{'Arielle': 'February', 'Gabby': 'January'}\n"
     ]
    }
   ],
   "source": [
    "birthmonths = {\n",
    "        \"Sofia\":\"October\",\n",
    "        \"Arielle\":\"February\",\n",
    "        \"Gabby\":\"December\",\n",
    "        \"Jocelyn\":\"June\"\n",
    "} \n",
    "\n",
    "birthmonths[\"Gabby\"]=\"January\" \n",
    "print(birthmonths.get(\"Gabby\"))\n",
    "\n",
    "\n",
    "print(len(birthmonths)) \n",
    "\n",
    "print(birthmonths.items())\n",
    "\n",
    "birthmonths.pop(\"Sofia\")\n",
    "\n",
    "birthmonths.popitem() \n",
    "print(birthmonths)\n",
    "\n"
   ]
  },
  {
   "cell_type": "code",
   "execution_count": 95,
   "id": "fd7043cf",
   "metadata": {},
   "outputs": [
    {
     "name": "stdout",
     "output_type": "stream",
     "text": [
      "34\n",
      "A worthy opponent! You leave the fight taking 42 damage!\n",
      "You've leveled up! Would you like to increase your strength, hp, or power by 10? power\n",
      "You dont have enough mana for a fight! Go replenish your mana!\n",
      "You have the power to switch your element. What element do you choose? water\n",
      "A water mage! An excellent choice.\n"
     ]
    }
   ],
   "source": [
    "import random\n",
    "#first need a base player class, then need to make fighter and mage classes with different attributes\n",
    "class Player:\n",
    "    def __init__(self, name, hp):\n",
    "        self.name = name\n",
    "        self.hp = hp\n",
    "        self.damage = 0 \n",
    "\n",
    "    def calculate_health(self):\n",
    "        return self.hp - self.damage\n",
    "    \n",
    "class Fighter(Player):\n",
    "    def __init__(self, name, hp, power, stamina):\n",
    "        super().__init__(name,hp)\n",
    "        self.power = power\n",
    "        self.stamina = stamina #giving fighter 2 different attributes\n",
    "    def fight(self):\n",
    "        enemy_power = random.randint(0,101) #gives the enemy a random amount of power\n",
    "        if self.power>enemy_power:\n",
    "            print(f\"You're more powerful! You leave the fight unscathed\")\n",
    "        elif self.power<=enemy_power:\n",
    "            self.damage = int(enemy_power/2)\n",
    "            print(f\"A worthy opponent! You leave the fight taking {self.damage} damage!\") #takes half the power of the enemy as damage\n",
    "    def upgrade_stats(self):\n",
    "        stat_up = input(\"You've leveled up! Would you like to increase your strength, hp, or power by 10? \").lower()\n",
    "        if stat_up == \"hp\":\n",
    "                  self.hp = self.hp+10\n",
    "        elif stat_up == \"power\":\n",
    "                  self.power = self.power + 10\n",
    "        elif stat_up == \"stamina\":\n",
    "                  self.stamina = self.stamina + 10 #adds 10 to a stat of the fighter's choice\n",
    "class Mage(Player):\n",
    "    def __init__(self,name,hp,mana,element): #gives attributes mana and element to the mage\n",
    "        super().__init__(name,hp)\n",
    "        self.mana = mana\n",
    "        self.element = element\n",
    "    def mana_check(self):\n",
    "        if self.mana>25:\n",
    "            print(\"You have plenty of mana for a fight!\")\n",
    "        else:\n",
    "            print(\"You dont have enough mana for a fight! Go replenish your mana!\")\n",
    "    def element_switch(self):\n",
    "        self.element = input(\"You have the power to switch your element. What element do you choose? \")\n",
    "        print(f\"A {self.element} mage! An excellent choice.\") #changes element to the mage's choice\n",
    "        \n",
    "                  \n",
    "   \n",
    "\n",
    "p1 = Player(\"Sallow\", 34)\n",
    "f1 = Fighter(\"Dave\", 50,70,60)\n",
    "m1 = Mage(\"Sofi\",60,20,\"fire\")\n",
    "print(p1.calculate_health())\n",
    "f1.fight()\n",
    "f1.upgrade_stats()\n",
    "m1.mana_check()\n",
    "m1.element_switch()"
   ]
  },
  {
   "cell_type": "code",
   "execution_count": 102,
   "id": "128fcaa8",
   "metadata": {},
   "outputs": [
    {
     "name": "stdout",
     "output_type": "stream",
     "text": [
      "__________ guess a character:w\n",
      "w\n",
      "Wrong\n",
      "You have 7 more guesses\n",
      "__________ guess a character:e\n",
      "we\n",
      "____e_____ guess a character:r\n",
      "wer\n",
      "Wrong\n",
      "You have 6 more guesses\n",
      "____e_____ guess a character:t\n",
      "wert\n",
      "Wrong\n",
      "You have 5 more guesses\n",
      "____e_____ guess a character:y\n",
      "werty\n",
      "Wrong\n",
      "You have 4 more guesses\n",
      "____e_____ guess a character:u\n",
      "wertyu\n",
      "Wrong\n",
      "You have 3 more guesses\n",
      "____e_____ guess a character:h\n",
      "wertyuh\n",
      "Wrong\n",
      "You have 2 more guesses\n",
      "____e_____ guess a character:f\n",
      "wertyuhf\n",
      "Wrong\n",
      "You have 1 more guesses\n",
      "____e_____ guess a character:d\n",
      "wertyuhfd\n",
      "Wrong\n",
      "You have 0 more guesses\n",
      " You Lose\n",
      "the word was magnesian\n",
      "\n"
     ]
    }
   ],
   "source": [
    "\n",
    "\n",
    "import random\n",
    "from IPython.display import clear_output \n",
    "sowpods = \"sowpods.txt\"\n",
    "lines = open(\"sowpods.txt\").readlines() \n",
    "word = random.choice(lines).lower()\n",
    "\n",
    "\n",
    "\n",
    "turns=8\n",
    "guesses = \"\"\n",
    "while turns>0:\n",
    "    failed=0\n",
    "    for char in word:\n",
    "        if char in guesses:\n",
    "            print(char,end=\"\")\n",
    "        else:\n",
    "            print('_',end=\"\")\n",
    "            failed +=1\n",
    "    if failed == 0:\n",
    "        print(\"you won!\")\n",
    "        break\n",
    "    guess = input(\" guess a character:\") \n",
    "    guesses += guess \n",
    "    print(guesses)                 \n",
    "\n",
    "    if guess not in word:  \n",
    "        turns -= 1        \n",
    "        print (\"Wrong\")  \n",
    "        print (\"You have\", + turns, \"more guesses\")\n",
    "\n",
    "        if turns == 0:\n",
    "            print (\" You Lose\")\n",
    "       \n",
    "\n",
    "            \n",
    "print(f\"the word was {word}\")\n",
    "\"\"\"\"\"building this in class, i was very rusty and nervous, so i worked on it alone when i shouldnt have.\n",
    "i tried making a dictionary and list to know the location and order of the letters in the word, but there was\n",
    "a simpler way of doing it. While doing this exercise, it really brushed up my loops, especially while loops\n",
    "which i tend to stay away from. i tried avoiding importing the txt file since i wasnt sure how to do it, so originally\n",
    "i had one player submit the word to guess. however, importing was simpler than i thought and upgraded my program.\"\"\"\n",
    "\n",
    "       \n",
    "\n"
   ]
  }
 ],
 "metadata": {
  "kernelspec": {
   "display_name": "Python 3 (ipykernel)",
   "language": "python",
   "name": "python3"
  },
  "language_info": {
   "codemirror_mode": {
    "name": "ipython",
    "version": 3
   },
   "file_extension": ".py",
   "mimetype": "text/x-python",
   "name": "python",
   "nbconvert_exporter": "python",
   "pygments_lexer": "ipython3",
   "version": "3.9.12"
  }
 },
 "nbformat": 4,
 "nbformat_minor": 5
}
